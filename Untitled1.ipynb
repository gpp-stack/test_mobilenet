{
 "cells": [
  {
   "cell_type": "code",
   "execution_count": 1,
   "metadata": {
    "id": "OvoW3PBNscX3"
   },
   "outputs": [],
   "source": [
    "import os\n",
    "import glob\n",
    "import pandas as pd\n",
    "import xml.etree.ElementTree as ET"
   ]
  },
  {
   "cell_type": "code",
   "execution_count": 3,
   "metadata": {},
   "outputs": [
    {
     "data": {
      "text/plain": [
       "'C:\\\\Users\\\\schve\\\\Desktop\\\\model'"
      ]
     },
     "execution_count": 3,
     "metadata": {},
     "output_type": "execute_result"
    }
   ],
   "source": [
    "os.getcwd()"
   ]
  },
  {
   "cell_type": "code",
   "execution_count": 16,
   "metadata": {
    "id": "zTjyAt1CscX9"
   },
   "outputs": [],
   "source": [
    "def xml_to_csv(path):\n",
    "    xml_list = []\n",
    "    for xml_file in glob.glob(path + '/*.xml'):\n",
    "        tree = ET.parse(xml_file)\n",
    "        zonePage = tree.findall(\"{http://lamp.cfar.umd.edu/GEDI}DL_DOCUMENT/{http://lamp.cfar.umd.edu/GEDI}DL_PAGE\")\n",
    "        zone = tree.findall(\"{http://lamp.cfar.umd.edu/GEDI}DL_DOCUMENT/{http://lamp.cfar.umd.edu/GEDI}DL_PAGE/{http://lamp.cfar.umd.edu/GEDI}DL_ZONE\")\n",
    "        if len(zone) > 0:\n",
    "            if zone[0].attrib['gedi_type'] == 'DLSignature':\n",
    "                xml_list.append(\n",
    "                    (os.path.basename(xml_file).replace('xml', 'tif'),\n",
    "                     int(zonePage[0].attrib['width']),\n",
    "                     int(zonePage[0].attrib['height']),\n",
    "                     'DLSignature',\n",
    "                     int(zone[0].attrib['col']),\n",
    "                     int(zone[0].attrib['row']),\n",
    "                     int(zone[0].attrib['width']) + int(zone[0].attrib['col']),\n",
    "                     int(zone[0].attrib['height']) + int(zone[0].attrib['row']),\n",
    "                     1)\n",
    "                     )\n",
    "\n",
    "    column_name = ['filename', 'width', 'height', 'class', 'xmin', 'ymin', 'xmax', 'ymax', 'class_int']\n",
    "    xml_df = pd.DataFrame(xml_list, columns=column_name)\n",
    "    return xml_df\n",
    "\n",
    "\n",
    "def main():\n",
    "    for folder in ['train_xml', 'val_xml']:\n",
    "        image_path = os.path.join(os.getcwd(), folder)\n",
    "        xml_df = xml_to_csv(image_path)\n",
    "        xml_df.to_csv((folder + '_labels.csv'), index=None)\n",
    "        print('Successfully converted xml to csv.')\n",
    "\n",
    "\n",
    "\n"
   ]
  },
  {
   "cell_type": "code",
   "execution_count": 17,
   "metadata": {
    "id": "W2zVboJPscX9",
    "outputId": "1f925112-d7c6-4f47-b438-4db4750a9eb8"
   },
   "outputs": [
    {
     "name": "stdout",
     "output_type": "stream",
     "text": [
      "Successfully converted xml to csv.\n",
      "Successfully converted xml to csv.\n"
     ]
    }
   ],
   "source": [
    "main()"
   ]
  },
  {
   "cell_type": "code",
   "execution_count": 18,
   "metadata": {
    "id": "657RztY4scX_"
   },
   "outputs": [
    {
     "name": "stdout",
     "output_type": "stream",
     "text": [
      "Successfully created the TFRecords: C:\\Users\\schve\\Desktop\\model\\train_xml_labels.record\n"
     ]
    }
   ],
   "source": [
    "!python generate_tfRecord.py --csv_input=train_xml_labels.csv --output_path=train_xml_labels.record --image_dir=train"
   ]
  },
  {
   "cell_type": "code",
   "execution_count": 19,
   "metadata": {},
   "outputs": [
    {
     "name": "stdout",
     "output_type": "stream",
     "text": [
      "Successfully created the TFRecords: C:\\Users\\schve\\Desktop\\model\\val_xml_labels.record\n"
     ]
    }
   ],
   "source": [
    "!python generate_tfRecord.py --csv_input=val_xml_labels.CSV --output_path=val_xml_labels.record  --image_dir=val"
   ]
  },
  {
   "cell_type": "code",
   "execution_count": null,
   "metadata": {},
   "outputs": [],
   "source": [
    "# https://github.com/tensorflow/models/blob/master/research/object_detection/g3doc/tf1_detection_zoo.md\n",
    "# https://habr.com/ru/company/nix/blog/422353/"
   ]
  },
  {
   "cell_type": "code",
   "execution_count": 28,
   "metadata": {},
   "outputs": [
    {
     "name": "stdout",
     "output_type": "stream",
     "text": [
      "Collecting tf_slim"
     ]
    },
    {
     "name": "stderr",
     "output_type": "stream",
     "text": [
      "WARNING: Ignoring invalid distribution -pencv-python (c:\\users\\schve\\anaconda3\\lib\\site-packages)\n",
      "WARNING: Ignoring invalid distribution -pencv-python (c:\\users\\schve\\anaconda3\\lib\\site-packages)\n",
      "WARNING: Ignoring invalid distribution -pencv-python (c:\\users\\schve\\anaconda3\\lib\\site-packages)\n",
      "WARNING: Ignoring invalid distribution -pencv-python (c:\\users\\schve\\anaconda3\\lib\\site-packages)\n",
      "WARNING: Ignoring invalid distribution -pencv-python (c:\\users\\schve\\anaconda3\\lib\\site-packages)\n",
      "WARNING: Ignoring invalid distribution -pencv-python (c:\\users\\schve\\anaconda3\\lib\\site-packages)\n",
      "WARNING: Ignoring invalid distribution -pencv-python (c:\\users\\schve\\anaconda3\\lib\\site-packages)\n"
     ]
    },
    {
     "name": "stdout",
     "output_type": "stream",
     "text": [
      "\n",
      "  Downloading tf_slim-1.1.0-py2.py3-none-any.whl (352 kB)\n",
      "Requirement already satisfied: absl-py>=0.2.2 in c:\\users\\schve\\anaconda3\\lib\\site-packages (from tf_slim) (0.15.0)\n",
      "Requirement already satisfied: six in c:\\users\\schve\\anaconda3\\lib\\site-packages (from absl-py>=0.2.2->tf_slim) (1.15.0)\n",
      "Installing collected packages: tf-slim\n",
      "Successfully installed tf-slim-1.1.0\n"
     ]
    }
   ],
   "source": [
    "!pip install tf_slim"
   ]
  },
  {
   "cell_type": "code",
   "execution_count": 30,
   "metadata": {},
   "outputs": [
    {
     "name": "stdout",
     "output_type": "stream",
     "text": [
      "C:\\Users\\schve\\Desktop\\model\\tf_mod\\research\n",
      "C:\\Users\\schve\\Desktop\\model\\tf_mod\n",
      "C:\\Users\\schve\\Desktop\\model\n"
     ]
    }
   ],
   "source": [
    "%cd tf_mod/research/\n",
    "!protoc object_detection/protos/*.proto --python_out=.\n",
    "%cd ..\n",
    "%cd .."
   ]
  },
  {
   "cell_type": "code",
   "execution_count": 37,
   "metadata": {},
   "outputs": [
    {
     "name": "stdout",
     "output_type": "stream",
     "text": [
      "Requirement already satisfied: gin-config in c:\\users\\schve\\anaconda3\\lib\\site-packages (0.5.0)\n"
     ]
    },
    {
     "name": "stderr",
     "output_type": "stream",
     "text": [
      "WARNING: Ignoring invalid distribution -pencv-python (c:\\users\\schve\\anaconda3\\lib\\site-packages)\n",
      "WARNING: Ignoring invalid distribution -pencv-python (c:\\users\\schve\\anaconda3\\lib\\site-packages)\n",
      "WARNING: Ignoring invalid distribution -pencv-python (c:\\users\\schve\\anaconda3\\lib\\site-packages)\n",
      "WARNING: Ignoring invalid distribution -pencv-python (c:\\users\\schve\\anaconda3\\lib\\site-packages)\n",
      "WARNING: Ignoring invalid distribution -pencv-python (c:\\users\\schve\\anaconda3\\lib\\site-packages)\n",
      "WARNING: Ignoring invalid distribution -pencv-python (c:\\users\\schve\\anaconda3\\lib\\site-packages)\n"
     ]
    },
    {
     "name": "stdout",
     "output_type": "stream",
     "text": [
      "Collecting tensorflow-addons\n",
      "  Downloading tensorflow_addons-0.15.0-cp38-cp38-win_amd64.whl (753 kB)\n",
      "Collecting typeguard>=2.7\n",
      "  Downloading typeguard-2.13.3-py3-none-any.whl (17 kB)\n",
      "Installing collected packages: typeguard, tensorflow-addons\n",
      "Successfully installed tensorflow-addons-0.15.0 typeguard-2.13.3\n"
     ]
    },
    {
     "name": "stderr",
     "output_type": "stream",
     "text": [
      "WARNING: Ignoring invalid distribution -pencv-python (c:\\users\\schve\\anaconda3\\lib\\site-packages)\n",
      "WARNING: Ignoring invalid distribution -pencv-python (c:\\users\\schve\\anaconda3\\lib\\site-packages)\n",
      "WARNING: Ignoring invalid distribution -pencv-python (c:\\users\\schve\\anaconda3\\lib\\site-packages)\n",
      "WARNING: Ignoring invalid distribution -pencv-python (c:\\users\\schve\\anaconda3\\lib\\site-packages)\n",
      "WARNING: Ignoring invalid distribution -pencv-python (c:\\users\\schve\\anaconda3\\lib\\site-packages)\n",
      "WARNING: Ignoring invalid distribution -pencv-python (c:\\users\\schve\\anaconda3\\lib\\site-packages)\n",
      "WARNING: Ignoring invalid distribution -pencv-python (c:\\users\\schve\\anaconda3\\lib\\site-packages)\n",
      "WARNING: Ignoring invalid distribution -pencv-python (c:\\users\\schve\\anaconda3\\lib\\site-packages)\n"
     ]
    }
   ],
   "source": [
    "!pip install gin-config\n",
    "!pip install tensorflow-addons"
   ]
  },
  {
   "cell_type": "code",
   "execution_count": 38,
   "metadata": {},
   "outputs": [
    {
     "name": "stderr",
     "output_type": "stream",
     "text": [
      "Traceback (most recent call last):\n",
      "  File \"train.py\", line 59, in <module>\n",
      "    from object_detection.legacy import trainer\n",
      "  File \"tf_mod/research\\object_detection\\legacy\\trainer.py\", line 27, in <module>\n",
      "    from object_detection.builders import optimizer_builder\n",
      "  File \"tf_mod/research\\object_detection\\builders\\optimizer_builder.py\", line 25, in <module>\n",
      "    from official.modeling.optimization import ema_optimizer\n",
      "  File \"tf_mod\\official\\modeling\\optimization\\__init__.py\", line 23, in <module>\n",
      "    from official.modeling.optimization.optimizer_factory import OptimizerFactory\n",
      "  File \"tf_mod\\official\\modeling\\optimization\\optimizer_factory.py\", line 31, in <module>\n",
      "    'sgd_experimental': tf.keras.optimizers.experimental.SGD,\n",
      "AttributeError: module 'keras.api._v2.keras.optimizers' has no attribute 'experimental'\n"
     ]
    }
   ],
   "source": [
    "!python train.py --logtostderr --train_dir=training/ --pipeline_config_path=training/ssd_mobilenet_v1_coco.config"
   ]
  },
  {
   "cell_type": "code",
   "execution_count": null,
   "metadata": {},
   "outputs": [],
   "source": []
  }
 ],
 "metadata": {
  "colab": {
   "name": "Untitled1.ipynb",
   "provenance": []
  },
  "kernelspec": {
   "display_name": "Python 3 (ipykernel)",
   "language": "python",
   "name": "python3"
  },
  "language_info": {
   "codemirror_mode": {
    "name": "ipython",
    "version": 3
   },
   "file_extension": ".py",
   "mimetype": "text/x-python",
   "name": "python",
   "nbconvert_exporter": "python",
   "pygments_lexer": "ipython3",
   "version": "3.8.8"
  }
 },
 "nbformat": 4,
 "nbformat_minor": 4
}
